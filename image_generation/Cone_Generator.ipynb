{
 "metadata": {
  "language_info": {
   "codemirror_mode": {
    "name": "ipython",
    "version": 3
   },
   "file_extension": ".py",
   "mimetype": "text/x-python",
   "name": "python",
   "nbconvert_exporter": "python",
   "pygments_lexer": "ipython3",
   "version": "3.9.6"
  },
  "orig_nbformat": 2,
  "kernelspec": {
   "name": "python3",
   "display_name": "Python 3.9.6 64-bit"
  },
  "interpreter": {
   "hash": "fe8c250ecc65b9c312d9907a34fb25acb60718286033c0aea00268d1f05cce17"
  }
 },
 "nbformat": 4,
 "nbformat_minor": 2,
 "cells": [
  {
   "cell_type": "code",
   "execution_count": 185,
   "source": [
    "from PIL import Image, ImageOps\r\n",
    "from IPython.display import display\r\n",
    "import random\r\n",
    "import json"
   ],
   "outputs": [],
   "metadata": {}
  },
  {
   "cell_type": "code",
   "execution_count": 186,
   "source": [
    "## fefining relationships with files, options and weights\r\n",
    "\r\n",
    "backgrounds = [\"Background_01\", \"Background_03\", \"Background_07\"]\r\n",
    "backgroundweights = [60, 30, 10]\r\n",
    "\r\n",
    "flavors = [\"Chocolate\", \"French_Vanilla\", \"Rainbow\", \"Strawberry\"]\r\n",
    "flavorweights = [50, 25, 5, 20]\r\n",
    "\r\n",
    "cones = [\"Regular_Chocolate\", \"Regular_Plain\", \"Tub_Dark\", \"Waffle_Matcha\"]\r\n",
    "coneweights = [20, 50, 20, 10]\r\n",
    "\r\n",
    "## files\r\n",
    "\r\n",
    "backgroundfiles = {\r\n",
    "    \"Background_01\" : \"Background_01.png\",\r\n",
    "    \"Background_03\" : \"Background_03.png\",\r\n",
    "    \"Background_07\" : \"Background_07.png\"\r\n",
    "}\r\n",
    "\r\n",
    "conefiles = {\r\n",
    "    \"Regular_Chocolate\" : \"Regular_Chocolate.png\", \r\n",
    "    \"Regular_Plain\" : \"Regular_Plain.png\", \r\n",
    "    \"Tub_Dark\" : \"Tub_Dark.png\", \r\n",
    "    \"Waffle_Matcha\" : \"Waffle_Matcha.png\"\r\n",
    "}\r\n",
    "\r\n",
    "flavorfiles = {\r\n",
    "    \"Chocolate\" : \"Chocolate.png\", \r\n",
    "    \"French_Vanilla\" : \"French_Vanilla.png\", \r\n",
    "    \"Rainbow\" : \"Rainbow.png\", \r\n",
    "    \"Strawberry\" : \"Strawberry.png\"\r\n",
    "}"
   ],
   "outputs": [],
   "metadata": {}
  },
  {
   "cell_type": "code",
   "execution_count": 175,
   "source": [
    "## Trait Generation\r\n",
    "import random\r\n",
    "\r\n",
    "total_cones = 20\r\n",
    "\r\n",
    "traits = []\r\n",
    "\r\n",
    "def createCombo():\r\n",
    "    trait = {}\r\n",
    "\r\n",
    "    trait[\"Background\"] = random.choices(backgrounds, backgroundweights)[0]\r\n",
    "    trait[\"Flavor\"] = random.choices(flavors, flavorweights)[0]\r\n",
    "    trait[\"Cone\"] = random.choices(cones, coneweights)[0]\r\n",
    "    \r\n",
    "    if trait in traits:\r\n",
    "        return createCombo()\r\n",
    "    else:\r\n",
    "        return trait\r\n",
    "\r\n",
    "for i in range(total_cones):\r\n",
    "    \r\n",
    "    newtraitcombo = createCombo()\r\n",
    "    traits.append(newtraitcombo)"
   ],
   "outputs": [],
   "metadata": {}
  },
  {
   "cell_type": "code",
   "execution_count": 176,
   "source": [
    "## Are they all unique?\r\n",
    "\r\n",
    "def allUnique(x):\r\n",
    "    seen = list()\r\n",
    "    return not any(i in seen or seen.append(i) for i in x)\r\n",
    "\r\n",
    "print(allUnique(traits))"
   ],
   "outputs": [
    {
     "output_type": "stream",
     "name": "stdout",
     "text": [
      "True\n"
     ]
    }
   ],
   "metadata": {}
  },
  {
   "cell_type": "code",
   "execution_count": 177,
   "source": [
    "## add token ids to json\r\n",
    "\r\n",
    "i = 0\r\n",
    "for item in traits:\r\n",
    "    item[\"tokenId\"] = i\r\n",
    "    i = i + 1"
   ],
   "outputs": [],
   "metadata": {}
  },
  {
   "cell_type": "code",
   "execution_count": 178,
   "source": [
    "## print this shit out!\r\n",
    "\r\n",
    "print(traits)"
   ],
   "outputs": [
    {
     "output_type": "stream",
     "name": "stdout",
     "text": [
      "[{'Background': 'Background_01', 'Flavor': 'Chocolate', 'Cone': 'Regular_Plain', 'tokenId': 0}, {'Background': 'Background_03', 'Flavor': 'Strawberry', 'Cone': 'Regular Chocolate', 'tokenId': 1}, {'Background': 'Background_01', 'Flavor': 'Strawberry', 'Cone': 'Regular_Plain', 'tokenId': 2}, {'Background': 'Background_07', 'Flavor': 'Strawberry', 'Cone': 'Regular_Plain', 'tokenId': 3}, {'Background': 'Background_07', 'Flavor': 'Chocolate', 'Cone': 'Regular_Plain', 'tokenId': 4}, {'Background': 'Background_01', 'Flavor': 'Chocolate', 'Cone': 'Regular Chocolate', 'tokenId': 5}, {'Background': 'Background_07', 'Flavor': 'French_Vanilla', 'Cone': 'Tub_Dark', 'tokenId': 6}, {'Background': 'Background_03', 'Flavor': 'Chocolate', 'Cone': 'Tub_Dark', 'tokenId': 7}, {'Background': 'Background_07', 'Flavor': 'French_Vanilla', 'Cone': 'Regular_Plain', 'tokenId': 8}, {'Background': 'Background_03', 'Flavor': 'Chocolate', 'Cone': 'Regular Chocolate', 'tokenId': 9}, {'Background': 'Background_03', 'Flavor': 'Strawberry', 'Cone': 'Tub_Dark', 'tokenId': 10}, {'Background': 'Background_07', 'Flavor': 'Chocolate', 'Cone': 'Tub_Dark', 'tokenId': 11}, {'Background': 'Background_01', 'Flavor': 'French_Vanilla', 'Cone': 'Regular Chocolate', 'tokenId': 12}, {'Background': 'Background_01', 'Flavor': 'Chocolate', 'Cone': 'Tub_Dark', 'tokenId': 13}, {'Background': 'Background_01', 'Flavor': 'Rainbow', 'Cone': 'Regular_Plain', 'tokenId': 14}, {'Background': 'Background_01', 'Flavor': 'French_Vanilla', 'Cone': 'Regular_Plain', 'tokenId': 15}, {'Background': 'Background_03', 'Flavor': 'French_Vanilla', 'Cone': 'Regular Chocolate', 'tokenId': 16}, {'Background': 'Background_01', 'Flavor': 'Strawberry', 'Cone': 'Regular Chocolate', 'tokenId': 17}, {'Background': 'Background_01', 'Flavor': 'Strawberry', 'Cone': 'Waffle_Matcha', 'tokenId': 18}, {'Background': 'Background_03', 'Flavor': 'Chocolate', 'Cone': 'Regular_Plain', 'tokenId': 19}]\n"
     ]
    }
   ],
   "metadata": {}
  },
  {
   "cell_type": "code",
   "execution_count": 179,
   "source": [
    "## get trait counts\r\n",
    "\r\n",
    "backgroundcounts = {}\r\n",
    "for item in backgrounds:\r\n",
    "    backgroundcounts[item] = 0\r\n",
    "    \r\n",
    "flavorcounts = {}\r\n",
    "for item in flavors:\r\n",
    "    flavorcounts[item] = 0\r\n",
    "\r\n",
    "conecounts = {}\r\n",
    "for item in cones:\r\n",
    "    conecounts[item] = 0\r\n",
    "\r\n",
    "for icecream in traits:\r\n",
    "    backgroundcounts[icecream[\"Background\"]] += 1\r\n",
    "    flavorcounts[icecream[\"Flavor\"]] += 1\r\n",
    "    conecounts[icecream[\"Cone\"]] += 1\r\n",
    "    \r\n",
    "print(\"background:\", backgroundcounts)\r\n",
    "print(\"flavor:\", flavorcounts)\r\n",
    "print(\"cone:\", conecounts)"
   ],
   "outputs": [
    {
     "output_type": "stream",
     "name": "stdout",
     "text": [
      "background: {'Background_01': 9, 'Background_03': 6, 'Background_07': 5}\n",
      "flavor: {'Chocolate': 8, 'French_Vanilla': 5, 'Rainbow': 1, 'Strawberry': 6}\n",
      "cone: {'Regular Chocolate': 6, 'Regular_Plain': 8, 'Tub_Dark': 5, 'Waffle_Matcha': 1}\n"
     ]
    }
   ],
   "metadata": {}
  },
  {
   "cell_type": "code",
   "execution_count": 180,
   "source": [
    "## write metadata to json file\r\n",
    "\r\n",
    "with open('traits.json', 'w') as outfile:\r\n",
    "    json.dump(traits, outfile, indent=4)"
   ],
   "outputs": [],
   "metadata": {}
  },
  {
   "cell_type": "code",
   "execution_count": 181,
   "source": [
    "traits"
   ],
   "outputs": [
    {
     "output_type": "execute_result",
     "data": {
      "text/plain": [
       "[{'Background': 'Background_01',\n",
       "  'Flavor': 'Chocolate',\n",
       "  'Cone': 'Regular_Plain',\n",
       "  'tokenId': 0},\n",
       " {'Background': 'Background_03',\n",
       "  'Flavor': 'Strawberry',\n",
       "  'Cone': 'Regular Chocolate',\n",
       "  'tokenId': 1},\n",
       " {'Background': 'Background_01',\n",
       "  'Flavor': 'Strawberry',\n",
       "  'Cone': 'Regular_Plain',\n",
       "  'tokenId': 2},\n",
       " {'Background': 'Background_07',\n",
       "  'Flavor': 'Strawberry',\n",
       "  'Cone': 'Regular_Plain',\n",
       "  'tokenId': 3},\n",
       " {'Background': 'Background_07',\n",
       "  'Flavor': 'Chocolate',\n",
       "  'Cone': 'Regular_Plain',\n",
       "  'tokenId': 4},\n",
       " {'Background': 'Background_01',\n",
       "  'Flavor': 'Chocolate',\n",
       "  'Cone': 'Regular Chocolate',\n",
       "  'tokenId': 5},\n",
       " {'Background': 'Background_07',\n",
       "  'Flavor': 'French_Vanilla',\n",
       "  'Cone': 'Tub_Dark',\n",
       "  'tokenId': 6},\n",
       " {'Background': 'Background_03',\n",
       "  'Flavor': 'Chocolate',\n",
       "  'Cone': 'Tub_Dark',\n",
       "  'tokenId': 7},\n",
       " {'Background': 'Background_07',\n",
       "  'Flavor': 'French_Vanilla',\n",
       "  'Cone': 'Regular_Plain',\n",
       "  'tokenId': 8},\n",
       " {'Background': 'Background_03',\n",
       "  'Flavor': 'Chocolate',\n",
       "  'Cone': 'Regular Chocolate',\n",
       "  'tokenId': 9},\n",
       " {'Background': 'Background_03',\n",
       "  'Flavor': 'Strawberry',\n",
       "  'Cone': 'Tub_Dark',\n",
       "  'tokenId': 10},\n",
       " {'Background': 'Background_07',\n",
       "  'Flavor': 'Chocolate',\n",
       "  'Cone': 'Tub_Dark',\n",
       "  'tokenId': 11},\n",
       " {'Background': 'Background_01',\n",
       "  'Flavor': 'French_Vanilla',\n",
       "  'Cone': 'Regular Chocolate',\n",
       "  'tokenId': 12},\n",
       " {'Background': 'Background_01',\n",
       "  'Flavor': 'Chocolate',\n",
       "  'Cone': 'Tub_Dark',\n",
       "  'tokenId': 13},\n",
       " {'Background': 'Background_01',\n",
       "  'Flavor': 'Rainbow',\n",
       "  'Cone': 'Regular_Plain',\n",
       "  'tokenId': 14},\n",
       " {'Background': 'Background_01',\n",
       "  'Flavor': 'French_Vanilla',\n",
       "  'Cone': 'Regular_Plain',\n",
       "  'tokenId': 15},\n",
       " {'Background': 'Background_03',\n",
       "  'Flavor': 'French_Vanilla',\n",
       "  'Cone': 'Regular Chocolate',\n",
       "  'tokenId': 16},\n",
       " {'Background': 'Background_01',\n",
       "  'Flavor': 'Strawberry',\n",
       "  'Cone': 'Regular Chocolate',\n",
       "  'tokenId': 17},\n",
       " {'Background': 'Background_01',\n",
       "  'Flavor': 'Strawberry',\n",
       "  'Cone': 'Waffle_Matcha',\n",
       "  'tokenId': 18},\n",
       " {'Background': 'Background_03',\n",
       "  'Flavor': 'Chocolate',\n",
       "  'Cone': 'Regular_Plain',\n",
       "  'tokenId': 19}]"
      ]
     },
     "metadata": {},
     "execution_count": 181
    }
   ],
   "metadata": {}
  },
  {
   "cell_type": "code",
   "execution_count": 184,
   "source": [
    "for item in traits:\r\n",
    "\r\n",
    "    image1 = Image.open(f'./BACKGROUNDS/{backgroundfiles[item[\"Background\"]]}').convert('RGBA')\r\n",
    "    image2 = Image.open(f'./CONES/{conefiles[item[\"Cone\"]]}').convert('RGBA')\r\n",
    "    image3 = Image.open(f'./FLAVORS/{flavorfiles[item[\"Flavor\"]]}').convert('RGBA')\r\n",
    "\r\n",
    "    ## create composite image\r\n",
    "\r\n",
    "    composite1 = Image.alpha_composite(image1, image2)\r\n",
    "    composite2 = Image.alpha_composite(composite1, image3)\r\n",
    "\r\n",
    "    ## convert to RGB \r\n",
    "\r\n",
    "    rgb_image = composite2.convert('RGB')\r\n",
    "\r\n",
    "    file_name = str(item[\"tokenId\"]) + \".jpg\"\r\n",
    "    rgb_image.save(\"./output/\"+file_name)\r\n",
    "    print(f'{str(item[\"tokenId\"])} done')"
   ],
   "outputs": [
    {
     "output_type": "stream",
     "name": "stdout",
     "text": [
      "0 done\n"
     ]
    },
    {
     "output_type": "error",
     "ename": "KeyError",
     "evalue": "'Regular Chocolate'",
     "traceback": [
      "\u001b[1;31m---------------------------------------------------------------------------\u001b[0m",
      "\u001b[1;31mKeyError\u001b[0m                                  Traceback (most recent call last)",
      "\u001b[1;32m~\\AppData\\Local\\Temp/ipykernel_16400/619264806.py\u001b[0m in \u001b[0;36m<module>\u001b[1;34m\u001b[0m\n\u001b[0;32m      2\u001b[0m \u001b[1;33m\u001b[0m\u001b[0m\n\u001b[0;32m      3\u001b[0m     \u001b[0mimage1\u001b[0m \u001b[1;33m=\u001b[0m \u001b[0mImage\u001b[0m\u001b[1;33m.\u001b[0m\u001b[0mopen\u001b[0m\u001b[1;33m(\u001b[0m\u001b[1;34mf'./BACKGROUNDS/{backgroundfiles[item[\"Background\"]]}'\u001b[0m\u001b[1;33m)\u001b[0m\u001b[1;33m.\u001b[0m\u001b[0mconvert\u001b[0m\u001b[1;33m(\u001b[0m\u001b[1;34m'RGBA'\u001b[0m\u001b[1;33m)\u001b[0m\u001b[1;33m\u001b[0m\u001b[1;33m\u001b[0m\u001b[0m\n\u001b[1;32m----> 4\u001b[1;33m     \u001b[0mimage2\u001b[0m \u001b[1;33m=\u001b[0m \u001b[0mImage\u001b[0m\u001b[1;33m.\u001b[0m\u001b[0mopen\u001b[0m\u001b[1;33m(\u001b[0m\u001b[1;34mf'./CONES/{conefiles[item[\"Cone\"]]}'\u001b[0m\u001b[1;33m)\u001b[0m\u001b[1;33m.\u001b[0m\u001b[0mconvert\u001b[0m\u001b[1;33m(\u001b[0m\u001b[1;34m'RGBA'\u001b[0m\u001b[1;33m)\u001b[0m\u001b[1;33m\u001b[0m\u001b[1;33m\u001b[0m\u001b[0m\n\u001b[0m\u001b[0;32m      5\u001b[0m     \u001b[0mimage3\u001b[0m \u001b[1;33m=\u001b[0m \u001b[0mImage\u001b[0m\u001b[1;33m.\u001b[0m\u001b[0mopen\u001b[0m\u001b[1;33m(\u001b[0m\u001b[1;34mf'./FLAVORS/{flavorfiles[item[\"Flavor\"]]}'\u001b[0m\u001b[1;33m)\u001b[0m\u001b[1;33m.\u001b[0m\u001b[0mconvert\u001b[0m\u001b[1;33m(\u001b[0m\u001b[1;34m'RGBA'\u001b[0m\u001b[1;33m)\u001b[0m\u001b[1;33m\u001b[0m\u001b[1;33m\u001b[0m\u001b[0m\n\u001b[0;32m      6\u001b[0m \u001b[1;33m\u001b[0m\u001b[0m\n",
      "\u001b[1;31mKeyError\u001b[0m: 'Regular Chocolate'"
     ]
    }
   ],
   "metadata": {}
  },
  {
   "cell_type": "code",
   "execution_count": null,
   "source": [
    "## add  ipfs hash to json \r\n",
    "\r\n",
    "# with open(\"jsonlocation\", 'r') as f:\r\n",
    "#     hashes = json.load(f)\r\n",
    "    \r\n",
    "# for k,v in hashes.items():\r\n",
    "#     print(k,v)\r\n",
    "#     traits[v][\"imageIPFS\"] = k"
   ],
   "outputs": [],
   "metadata": {}
  },
  {
   "cell_type": "code",
   "execution_count": null,
   "source": [
    "with open('traitsfinal.json', 'w') as outfile:\r\n",
    "    json.dump(traits, outfile, indent=4)"
   ],
   "outputs": [],
   "metadata": {}
  }
 ]
}