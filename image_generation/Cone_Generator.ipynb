{
 "metadata": {
  "language_info": {
   "codemirror_mode": {
    "name": "ipython",
    "version": 3
   },
   "file_extension": ".py",
   "mimetype": "text/x-python",
   "name": "python",
   "nbconvert_exporter": "python",
   "pygments_lexer": "ipython3",
   "version": "3.9.6"
  },
  "orig_nbformat": 2,
  "kernelspec": {
   "name": "python3",
   "display_name": "Python 3.9.6 64-bit"
  },
  "interpreter": {
   "hash": "fe8c250ecc65b9c312d9907a34fb25acb60718286033c0aea00268d1f05cce17"
  }
 },
 "nbformat": 4,
 "nbformat_minor": 2,
 "cells": [
  {
   "cell_type": "code",
   "execution_count": 382,
   "source": [
    "from PIL import Image, ImageOps\r\n",
    "from IPython.display import display\r\n",
    "import random\r\n",
    "import json"
   ],
   "outputs": [],
   "metadata": {}
  },
  {
   "cell_type": "code",
   "execution_count": 384,
   "source": [
    "## refining relationships with files, options and weights\r\n",
    "\r\n",
    "## 2 Styles\r\n",
    "styles = [\"Single\",\"Double\"]\r\n",
    "styleweights = [92, 8]\r\n",
    "\r\n",
    "## 10 backgrounds\r\n",
    "backgrounds = [\"Background_01\", \"Background_02\", \"Background_03\", \"Background_04\", \"Background_05\", \"Background_06\", \"Background_07\", \"Background_08\", \"Background_09\", \"Background_10\"]\r\n",
    "backgroundweights = [10, 10, 10, 10, 10, 10, 10, 10, 10, 10]\r\n",
    "\r\n",
    "## 11 cones\r\n",
    "cones = [\"Regular_Chocolate\", \"Regular_Matcha\", \"Regular_Plain\", \"Regular_Strawberry\", \"Tub_Dark\", \"Tub_Grey\", \"Tub_White\", \"Waffle_Chocolate\", \"Waffle_Matcha\", \"Waffle_Plain\", \"Waffle_Strawberry\"]\r\n",
    "coneweights = [10, 10, 10, 10, 10, 10, 10, 10, 10, 5, 5] \r\n",
    "\r\n",
    "## 10 flavors\r\n",
    "flavors = [\"Chocolate\", \"Cotton_Candy\", \"French_Vanilla\", \"Lavender\", \"Mint\", \"Neapolitan\", \"Rainbow\", \"Strawberry\", \"Tiger\", \"Vanilla\"]\r\n",
    "flavorweights = [10, 10, 10, 10, 10, 10, 10, 10, 10, 10]\r\n",
    "\r\n",
    "## (1) eyes\r\n",
    "eyes = [\"Normal\"]\r\n",
    "eyeweights = [100]\r\n",
    "\r\n",
    "## 18 costumes\r\n",
    "costumes = [\"Angel\", \"Astronaut\", \"Bee\", \"Cat\", \"Clown\", \"Diver\", \"Dog\", \"Dolphin\", \"Fairy\", \"Fish_Bowl\", \"Goddess\", \"Hippie\", \"Hoodie\", \"Knight\", \"Mermaid\", \"Mummy\", \"Pirate\", \"Princess\", \"Rambo\", \"Shark\", \"Sunflower\", \"Vampire\", \"Wizard\"]\r\n",
    "costumeweights = [40, 30, 30, 0, 0, 0]\r\n",
    "\r\n",
    "## ----- costumes ----- ##\r\n",
    "\r\n",
    "## angel costume\r\n",
    "anglevars = {\r\n",
    "    \"Robes\": [\"Light_Robes\", \"Dark_Robes\"],\r\n",
    "    \"robeweights\": [50, 50],\r\n",
    "    \"Wings\": [\"Light_Wings\", \"Dark_Wings\"],\r\n",
    "    \"wingweights\": [50, 50],\r\n",
    "}\r\n",
    "\r\n",
    "## astronaut costume\r\n",
    "astronautvars = {\r\n",
    "    \"Suit\": [\"White_Suit\", \"Black_Suit\"],\r\n",
    "    \"suitweights\": [50, 50],\r\n",
    "    \"Glass\": [\"White_Glass\", \"Black_Glass\"],\r\n",
    "    \"glassweights\": [50, 50],\r\n",
    "}\r\n",
    "\r\n",
    "## bee costume\r\n",
    "beevars = {\r\n",
    "    \"Stripes\": [\"Thick_Black\", \"Thick_Yellow\"],\r\n",
    "    \"stripeweights\": [50, 50],\r\n",
    "    \"Wings\": [\"White_Wings\", \"Blue_Wings\"],\r\n",
    "    \"wingweights\": [50, 50],\r\n",
    "    \"Hair\": [\"Black\", \"None\"],\r\n",
    "    \"hairweights\": [50, 50],\r\n",
    "}\r\n",
    "\r\n",
    "## ----- files ----- ##\r\n",
    "\r\n",
    "backgroundfiles = {\r\n",
    "    \"Background_01\": \"Background_01.png\",\r\n",
    "    \"Background_02\": \"Background_02.png\",\r\n",
    "    \"Background_03\": \"Background_03.png\",\r\n",
    "    \"Background_04\": \"Background_04.png\",\r\n",
    "    \"Background_05\": \"Background_05.png\",\r\n",
    "    \"Background_06\": \"Background_06.png\",\r\n",
    "    \"Background_07\": \"Background_07.png\",\r\n",
    "    \"Background_08\": \"Background_08.png\",\r\n",
    "    \"Background_09\": \"Background_09.png\",\r\n",
    "    \"Background_10\": \"Background_10.png\",\r\n",
    "}\r\n",
    "\r\n",
    "conefiles = {\r\n",
    "    \"Regular_Chocolate\": \"Regular_Chocolate.png\", \r\n",
    "    \"Regular_Matcha\": \"Regular_Matcha.png\",\r\n",
    "    \"Regular_Plain\": \"Regular_Plain.png\", \r\n",
    "    \"Regular_Strawberry\": \"Regular_Strawberry.png\",\r\n",
    "    \"Tub_Dark\": \"Tub_Dark.png\", \r\n",
    "    \"Tub_Grey\": \"Tub_Grey.png\",\r\n",
    "    \"Tub_White\": \"Tub_White.png\",\r\n",
    "    \"Waffle_Chocolate\": \"Waffle_Chocolate.png\",\r\n",
    "    \"Waffle_Matcha\": \"Waffle_Matcha.png\",\r\n",
    "    \"Waffle_Plain\": \"Waffle_Plain.png\",\r\n",
    "    \"Waffle_Strawberry\": \"Waffle_Strawberry.png\",\r\n",
    "}\r\n",
    "\r\n",
    "flavorfiles = {\r\n",
    "    \"Chocolate\": \"Chocolate.png\",\r\n",
    "    \"Cotton_Candy\": \"Cotton_Candy.png\",\r\n",
    "    \"French_Vanilla\": \"French_Vanilla.png\",\r\n",
    "    \"Lavender\": \"Lavender.png\",\r\n",
    "    \"Mint\": \"Mint.png\",\r\n",
    "    \"Neapolitan\": \"Neapolitan.png\",\r\n",
    "    \"Rainbow\": \"Rainbow.png\", \r\n",
    "    \"Strawberry\": \"Strawberry.png\",\r\n",
    "    \"Tiger\": \"Tiger.png\",\r\n",
    "    \"Vanilla\": \"Vanilla.png\",\r\n",
    "}\r\n",
    "\r\n",
    "eyefiles = {\r\n",
    "    \"Normal\": \"Normal.png\", \r\n",
    "}"
   ],
   "outputs": [],
   "metadata": {}
  },
  {
   "cell_type": "code",
   "execution_count": 392,
   "source": [
    "## Trait Generation\r\n",
    "import random\r\n",
    "\r\n",
    "total_cones = 20\r\n",
    "traits = []\r\n",
    "\r\n",
    "def createCombo():\r\n",
    "    trait = {}\r\n",
    "\r\n",
    "    trait[\"Style\"] = random.choices(styles, styleweights)[0]\r\n",
    "    trait[\"Background\"] = random.choices(backgrounds, backgroundweights)[0]\r\n",
    "    trait[\"Cone\"] = random.choices(cones, coneweights)[0]\r\n",
    "    trait[\"Flavor\"] = random.choices(flavors, flavorweights)[0]\r\n",
    "    trait[\"Eye\"] = random.choices(eyes, eyeweights)[0]\r\n",
    "    trait[\"Costume\"] = random.choices(costumes, costumeweights)[0]\r\n",
    "\r\n",
    "    if trait[\"Costume\"] == \"Angel\":\r\n",
    "        trait[\"CostumeVariation\"] = [\r\n",
    "            random.choices(anglevars[0]['Robes'], anglevars[0]['robeweights'])[0],\r\n",
    "            random.choices(anglevars[0]['Wings'], anglevars[0]['wingweights'])[0]\r\n",
    "        ]\r\n",
    "    elif trait[\"Costume\"] == \"Astronaut\":\r\n",
    "        print(\"Astronaut Match\")\r\n",
    "    elif trait[\"Costume\"] == \"Bee\":\r\n",
    "        print(\"Bee Match\")\r\n",
    "    else:\r\n",
    "        print(\"COSTUME NOT FOUND\")\r\n",
    "\r\n",
    "    if trait in traits:\r\n",
    "        return createCombo()\r\n",
    "    else:\r\n",
    "        return trait\r\n",
    "\r\n",
    "for i in range(total_cones):\r\n",
    "    \r\n",
    "    newtraitcombo = createCombo()\r\n",
    "    traits.append(newtraitcombo)"
   ],
   "outputs": [
    {
     "output_type": "stream",
     "name": "stdout",
     "text": [
      "Bee Match\n",
      "['Light_Robes', 'Light_Wings']\n",
      "Bee Match\n",
      "Bee Match\n",
      "['Light_Robes', 'Light_Wings']\n",
      "['Light_Robes', 'Dark_Wings']\n",
      "Bee Match\n",
      "Astronaut Match\n",
      "Astronaut Match\n",
      "Bee Match\n",
      "Astronaut Match\n",
      "Bee Match\n",
      "Bee Match\n",
      "['Dark_Robes', 'Light_Wings']\n",
      "Astronaut Match\n",
      "Bee Match\n",
      "['Light_Robes', 'Light_Wings']\n",
      "Bee Match\n",
      "Astronaut Match\n",
      "['Light_Robes', 'Dark_Wings']\n"
     ]
    }
   ],
   "metadata": {}
  },
  {
   "cell_type": "code",
   "execution_count": null,
   "source": [
    "## Are they all unique?\r\n",
    "\r\n",
    "def allUnique(x):\r\n",
    "    seen = list()\r\n",
    "    return not any(i in seen or seen.append(i) for i in x)\r\n",
    "\r\n",
    "print(allUnique(traits))"
   ],
   "outputs": [
    {
     "output_type": "stream",
     "name": "stdout",
     "text": [
      "True\n"
     ]
    }
   ],
   "metadata": {}
  },
  {
   "cell_type": "code",
   "execution_count": null,
   "source": [
    "## add token ids to json\r\n",
    "\r\n",
    "i = 0\r\n",
    "for item in traits:\r\n",
    "    item[\"tokenId\"] = i\r\n",
    "    i = i + 1"
   ],
   "outputs": [],
   "metadata": {}
  },
  {
   "cell_type": "code",
   "execution_count": null,
   "source": [
    "## print this shit out!\r\n",
    "\r\n",
    "print(traits)"
   ],
   "outputs": [
    {
     "output_type": "stream",
     "name": "stdout",
     "text": [
      "[{'Style': 'Single', 'Background': 'Background_04', 'Cone': 'Regular_Matcha', 'Flavor': 'Neapolitan', 'Eye': 'Normal', 'Costume': 'Angel', 'tokenId': 0}, {'Style': 'Single', 'Background': 'Background_03', 'Cone': 'Waffle_Matcha', 'Flavor': 'Chocolate', 'Eye': 'Normal', 'Costume': 'Angel', 'tokenId': 1}, {'Style': 'Single', 'Background': 'Background_10', 'Cone': 'Regular_Plain', 'Flavor': 'French_Vanilla', 'Eye': 'Normal', 'Costume': 'Bee', 'tokenId': 2}, {'Style': 'Single', 'Background': 'Background_01', 'Cone': 'Tub_White', 'Flavor': 'Vanilla', 'Eye': 'Normal', 'Costume': 'Angel', 'tokenId': 3}, {'Style': 'Single', 'Background': 'Background_02', 'Cone': 'Tub_Dark', 'Flavor': 'Rainbow', 'Eye': 'Normal', 'Costume': 'Astronaut', 'tokenId': 4}, {'Style': 'Single', 'Background': 'Background_02', 'Cone': 'Regular_Chocolate', 'Flavor': 'Mint', 'Eye': 'Normal', 'Costume': 'Astronaut', 'tokenId': 5}, {'Style': 'Single', 'Background': 'Background_06', 'Cone': 'Tub_Grey', 'Flavor': 'Lavender', 'Eye': 'Normal', 'Costume': 'Bee', 'tokenId': 6}, {'Style': 'Single', 'Background': 'Background_03', 'Cone': 'Waffle_Strawberry', 'Flavor': 'Mint', 'Eye': 'Normal', 'Costume': 'Angel', 'tokenId': 7}, {'Style': 'Single', 'Background': 'Background_08', 'Cone': 'Waffle_Plain', 'Flavor': 'Mint', 'Eye': 'Normal', 'Costume': 'Angel', 'tokenId': 8}, {'Style': 'Single', 'Background': 'Background_04', 'Cone': 'Waffle_Matcha', 'Flavor': 'Vanilla', 'Eye': 'Normal', 'Costume': 'Bee', 'tokenId': 9}, {'Style': 'Single', 'Background': 'Background_06', 'Cone': 'Waffle_Matcha', 'Flavor': 'Tiger', 'Eye': 'Normal', 'Costume': 'Angel', 'tokenId': 10}, {'Style': 'Double', 'Background': 'Background_01', 'Cone': 'Tub_White', 'Flavor': 'Neapolitan', 'Eye': 'Normal', 'Costume': 'Astronaut', 'tokenId': 11}, {'Style': 'Single', 'Background': 'Background_07', 'Cone': 'Waffle_Matcha', 'Flavor': 'Vanilla', 'Eye': 'Normal', 'Costume': 'Angel', 'tokenId': 12}, {'Style': 'Single', 'Background': 'Background_05', 'Cone': 'Waffle_Matcha', 'Flavor': 'Lavender', 'Eye': 'Normal', 'Costume': 'Bee', 'tokenId': 13}, {'Style': 'Single', 'Background': 'Background_09', 'Cone': 'Tub_Grey', 'Flavor': 'Cotton_Candy', 'Eye': 'Normal', 'Costume': 'Astronaut', 'tokenId': 14}, {'Style': 'Single', 'Background': 'Background_09', 'Cone': 'Tub_Grey', 'Flavor': 'Tiger', 'Eye': 'Normal', 'Costume': 'Angel', 'tokenId': 15}, {'Style': 'Single', 'Background': 'Background_02', 'Cone': 'Regular_Plain', 'Flavor': 'Rainbow', 'Eye': 'Normal', 'Costume': 'Bee', 'tokenId': 16}, {'Style': 'Single', 'Background': 'Background_06', 'Cone': 'Regular_Plain', 'Flavor': 'Strawberry', 'Eye': 'Normal', 'Costume': 'Bee', 'tokenId': 17}, {'Style': 'Single', 'Background': 'Background_04', 'Cone': 'Tub_White', 'Flavor': 'Neapolitan', 'Eye': 'Normal', 'Costume': 'Bee', 'tokenId': 18}, {'Style': 'Single', 'Background': 'Background_07', 'Cone': 'Regular_Matcha', 'Flavor': 'Cotton_Candy', 'Eye': 'Normal', 'Costume': 'Angel', 'tokenId': 19}]\n"
     ]
    }
   ],
   "metadata": {}
  },
  {
   "cell_type": "code",
   "execution_count": null,
   "source": [
    "## get trait counts\r\n",
    "\r\n",
    "backgroundcounts = {}\r\n",
    "for item in backgrounds:\r\n",
    "    backgroundcounts[item] = 0\r\n",
    "\r\n",
    "conecounts = {}\r\n",
    "for item in cones:\r\n",
    "    conecounts[item] = 0\r\n",
    "\r\n",
    "flavorcounts = {}\r\n",
    "for item in flavors:\r\n",
    "    flavorcounts[item] = 0\r\n",
    "\r\n",
    "eyecounts = {}\r\n",
    "for item in eyes:\r\n",
    "    eyecounts[item] = 0\r\n",
    "\r\n",
    "\r\n",
    "for icecream in traits:\r\n",
    "    backgroundcounts[icecream[\"Background\"]] += 1\r\n",
    "    conecounts[icecream[\"Cone\"]] += 1\r\n",
    "    flavorcounts[icecream[\"Flavor\"]] += 1\r\n",
    "    eyecounts[icecream[\"Eye\"]] += 1\r\n",
    "    \r\n",
    "print(\"background:\", backgroundcounts)\r\n",
    "print(\"cone:\", conecounts)\r\n",
    "print(\"flavor:\", flavorcounts)\r\n",
    "print(\"eye:\", eyecounts)"
   ],
   "outputs": [],
   "metadata": {}
  },
  {
   "cell_type": "code",
   "execution_count": null,
   "source": [
    "## write metadata to json file\r\n",
    "\r\n",
    "with open('traits.json', 'w') as outfile:\r\n",
    "    json.dump(traits, outfile, indent=4)"
   ],
   "outputs": [],
   "metadata": {}
  },
  {
   "cell_type": "code",
   "execution_count": null,
   "source": [
    "traits"
   ],
   "outputs": [],
   "metadata": {}
  },
  {
   "cell_type": "code",
   "execution_count": null,
   "source": [
    "for item in traits:\r\n",
    "\r\n",
    "    image1 = Image.open(f'./BACKGROUNDS/{backgroundfiles[item[\"Background\"]]}').convert('RGBA')\r\n",
    "    image2 = Image.open(f'./CONES/{conefiles[item[\"Cone\"]]}').convert('RGBA')\r\n",
    "    image3 = Image.open(f'./FLAVORS/{flavorfiles[item[\"Flavor\"]]}').convert('RGBA')\r\n",
    "    image4 = Image.open(f'./EYES/{eyefiles[item[\"Eye\"]]}').convert('RGBA')\r\n",
    "\r\n",
    "    ## create composite image\r\n",
    "\r\n",
    "    composite1 = Image.alpha_composite(image1, image2)\r\n",
    "    composite2 = Image.alpha_composite(composite1, image3)\r\n",
    "    composite3 = Image.alpha_composite(composite2, image4)\r\n",
    "\r\n",
    "    ## convert to RGB \r\n",
    "\r\n",
    "    rgb_image = composite3.convert('RGB')\r\n",
    "\r\n",
    "    file_name = str(item[\"tokenId\"]) + \".jpg\"\r\n",
    "    rgb_image.save(\"./output/\"+file_name)\r\n",
    "    print(f'{str(item[\"tokenId\"])} done')"
   ],
   "outputs": [],
   "metadata": {}
  },
  {
   "cell_type": "code",
   "execution_count": null,
   "source": [
    "with open('traitsfinal.json', 'w') as outfile:\r\n",
    "    json.dump(traits, outfile, indent=4)"
   ],
   "outputs": [],
   "metadata": {}
  }
 ]
}