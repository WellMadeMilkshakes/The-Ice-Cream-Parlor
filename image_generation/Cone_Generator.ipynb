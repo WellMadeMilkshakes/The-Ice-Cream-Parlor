{
 "metadata": {
  "language_info": {
   "codemirror_mode": {
    "name": "ipython",
    "version": 3
   },
   "file_extension": ".py",
   "mimetype": "text/x-python",
   "name": "python",
   "nbconvert_exporter": "python",
   "pygments_lexer": "ipython3",
   "version": "3.9.6-final"
  },
  "orig_nbformat": 2,
  "kernelspec": {
   "name": "python3",
   "display_name": "Python 3.9.6 64-bit",
   "metadata": {
    "interpreter": {
     "hash": "63fd5069d213b44bf678585dea6b12cceca9941eaf7f819626cde1f2670de90d"
    }
   }
  }
 },
 "nbformat": 4,
 "nbformat_minor": 2,
 "cells": [
  {
   "cell_type": "code",
   "execution_count": 6,
   "metadata": {},
   "outputs": [
    {
     "output_type": "error",
     "ename": "ModuleNotFoundError",
     "evalue": "No module named 'PIL'",
     "traceback": [
      "\u001b[1;31m---------------------------------------------------------------------------\u001b[0m",
      "\u001b[1;31mModuleNotFoundError\u001b[0m                       Traceback (most recent call last)",
      "\u001b[1;32m~\\AppData\\Local\\Temp/ipykernel_21908/2709718850.py\u001b[0m in \u001b[0;36m<module>\u001b[1;34m\u001b[0m\n\u001b[1;32m----> 1\u001b[1;33m \u001b[1;32mfrom\u001b[0m \u001b[0mPIL\u001b[0m \u001b[1;32mimport\u001b[0m \u001b[0mImage\u001b[0m\u001b[1;33m,\u001b[0m \u001b[0mImageOps\u001b[0m\u001b[1;33m\u001b[0m\u001b[1;33m\u001b[0m\u001b[0m\n\u001b[0m\u001b[0;32m      2\u001b[0m \u001b[1;32mfrom\u001b[0m \u001b[0mIPython\u001b[0m\u001b[1;33m.\u001b[0m\u001b[0mdisplay\u001b[0m \u001b[1;32mimport\u001b[0m \u001b[0mdisplay\u001b[0m\u001b[1;33m\u001b[0m\u001b[1;33m\u001b[0m\u001b[0m\n\u001b[0;32m      3\u001b[0m \u001b[1;32mimport\u001b[0m \u001b[0mrandom\u001b[0m\u001b[1;33m\u001b[0m\u001b[1;33m\u001b[0m\u001b[0m\n\u001b[0;32m      4\u001b[0m \u001b[1;32mimport\u001b[0m \u001b[0mjson\u001b[0m\u001b[1;33m\u001b[0m\u001b[1;33m\u001b[0m\u001b[0m\n",
      "\u001b[1;31mModuleNotFoundError\u001b[0m: No module named 'PIL'"
     ]
    }
   ],
   "source": [
    "from PIL import Image, ImageOps\n",
    "from IPython.display import display\n",
    "import random\n",
    "import json"
   ]
  },
  {
   "cell_type": "code",
   "execution_count": 8,
   "metadata": {},
   "outputs": [],
   "source": [
    "## Defining Relationships\n",
    "\n",
    "backgrounds = [\"Background_01\", \"Background_03\", \"Background_07\"]\n",
    "backgroundweights = [60, 30, 10]\n",
    "\n",
    "flavors = [\"Chocolate\", \"French_Vanilla\", \"Rainbow\", \"Strawberry\"]\n",
    "flavorweights = [50, 25, 5, 20]\n",
    "\n",
    "cones = [\"Regular Chocolate\", \"Regular_Plain\", \"Tub_Dark\", \"Waffle_Matcha\"]\n",
    "coneweights = [20, 50, 20, 10]\n",
    "\n",
    "## files\n",
    "\n",
    "backgroundfiles = {\n",
    "    \"Background_01\" : \"Background_01.png\",\n",
    "    \"Background_03\" : \"Background_03.png\",\n",
    "    \"Background_07\" : \"Background_07.png\"\n",
    "}\n",
    "\n",
    "flavorfiles = {\n",
    "    \"Chocolate\" : \"Chocolate.png\", \n",
    "    \"French_Vanilla\" : \"French_Vanilla.png\", \n",
    "    \"Rainbow\" : \"Rainbow.png\", \n",
    "    \"Strawberry\" : \"Strawberry.png\"\n",
    "}\n",
    "\n",
    "conefiles = {\n",
    "    \"Regular Chocolate\" : \"Regular Chocolate.png\", \n",
    "    \"Regular_Plain\" : \"Regular_Plain.png\", \n",
    "    \"Tub_Dark\" : \"Tub_Dark.png\", \n",
    "    \"Waffle_Matcha\" : \"Waffle_Matcha.png\"\n",
    "}\n"
   ]
  },
  {
   "cell_type": "code",
   "execution_count": null,
   "metadata": {},
   "outputs": [],
   "source": [
    "## Trait Generation\n",
    "\n",
    "total_cones = 48\n",
    "\n",
    "traits = []\n",
    "\n",
    "def createCombo():\n",
    "    trait = {}\n",
    "\n",
    "    trait[\"Background\"] = random.choices(backgrounds, backgroundweights)[0]\n",
    "    trait[\"Flavor\"] = random.choices(flavors, flavorweights)[0]\n",
    "    trait[\"Cone\"] = random.choices(cones, coneweights)[0]\n",
    "    \n",
    "    if trait in traits:\n",
    "        return createCombo()\n",
    "    else:\n",
    "        return trait\n",
    "\n",
    "for i in range(total_cones):\n",
    "    \n",
    "    newtraitcombo = createCombo()\n",
    "    \n",
    "    traits.append(newtraitcombo)\n"
   ]
  }
 ]
}