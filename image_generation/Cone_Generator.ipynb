{
 "metadata": {
  "language_info": {
   "codemirror_mode": {
    "name": "ipython",
    "version": 3
   },
   "file_extension": ".py",
   "mimetype": "text/x-python",
   "name": "python",
   "nbconvert_exporter": "python",
   "pygments_lexer": "ipython3",
   "version": "3.9.6"
  },
  "orig_nbformat": 2,
  "kernelspec": {
   "name": "python3",
   "display_name": "Python 3.9.6 64-bit"
  },
  "interpreter": {
   "hash": "fe8c250ecc65b9c312d9907a34fb25acb60718286033c0aea00268d1f05cce17"
  }
 },
 "nbformat": 4,
 "nbformat_minor": 2,
 "cells": [
  {
   "cell_type": "code",
   "execution_count": null,
   "source": [
    "from PIL import Image, ImageOps\r\n",
    "from IPython.display import display\r\n",
    "import random\r\n",
    "import json"
   ],
   "outputs": [],
   "metadata": {}
  },
  {
   "cell_type": "code",
   "execution_count": null,
   "source": [
    "## fefining relationships with files, options and weights\r\n",
    "\r\n",
    "backgrounds = [\"Background_01\", \"Background_03\", \"Background_07\"]\r\n",
    "backgroundweights = [60, 30, 10]\r\n",
    "\r\n",
    "flavors = [\"Chocolate\", \"French_Vanilla\", \"Rainbow\", \"Strawberry\"]\r\n",
    "flavorweights = [50, 25, 5, 20]\r\n",
    "\r\n",
    "cones = [\"Regular Chocolate\", \"Regular_Plain\", \"Tub_Dark\", \"Waffle_Matcha\"]\r\n",
    "coneweights = [20, 50, 20, 10]\r\n",
    "\r\n",
    "## files\r\n",
    "\r\n",
    "backgroundfiles = {\r\n",
    "    \"Background_01\" : \"Background_01.png\",\r\n",
    "    \"Background_03\" : \"Background_03.png\",\r\n",
    "    \"Background_07\" : \"Background_07.png\"\r\n",
    "}\r\n",
    "\r\n",
    "flavorfiles = {\r\n",
    "    \"Chocolate\" : \"Chocolate.png\", \r\n",
    "    \"French_Vanilla\" : \"French_Vanilla.png\", \r\n",
    "    \"Rainbow\" : \"Rainbow.png\", \r\n",
    "    \"Strawberry\" : \"Strawberry.png\"\r\n",
    "}\r\n",
    "\r\n",
    "conefiles = {\r\n",
    "    \"Regular Chocolate\" : \"Regular Chocolate.png\", \r\n",
    "    \"Regular_Plain\" : \"Regular_Plain.png\", \r\n",
    "    \"Tub_Dark\" : \"Tub_Dark.png\", \r\n",
    "    \"Waffle_Matcha\" : \"Waffle_Matcha.png\"\r\n",
    "}\r\n"
   ],
   "outputs": [],
   "metadata": {}
  },
  {
   "cell_type": "code",
   "execution_count": null,
   "source": [
    "## Trait Generation\r\n",
    "import random\r\n",
    "\r\n",
    "total_cones = 48\r\n",
    "\r\n",
    "traits = []\r\n",
    "\r\n",
    "def createCombo():\r\n",
    "    trait = {}\r\n",
    "\r\n",
    "    trait[\"Background\"] = random.choices(backgrounds, backgroundweights)[0]\r\n",
    "    trait[\"Flavor\"] = random.choices(flavors, flavorweights)[0]\r\n",
    "    trait[\"Cone\"] = random.choices(cones, coneweights)[0]\r\n",
    "    \r\n",
    "    if trait in traits:\r\n",
    "        return createCombo()\r\n",
    "    else:\r\n",
    "        return trait\r\n",
    "\r\n",
    "for i in range(total_cones):\r\n",
    "    \r\n",
    "    newtraitcombo = createCombo()\r\n",
    "    traits.append(newtraitcombo)"
   ],
   "outputs": [],
   "metadata": {}
  },
  {
   "cell_type": "code",
   "execution_count": null,
   "source": [
    "## Are they all unique?\r\n",
    "\r\n",
    "def allUnique(x):\r\n",
    "    seen = list()\r\n",
    "    return not any(i in seen or seen.append(i) for i in x)\r\n",
    "\r\n",
    "print(allUnique(traits))"
   ],
   "outputs": [],
   "metadata": {}
  },
  {
   "cell_type": "code",
   "execution_count": null,
   "source": [
    "## add token ids to json\r\n",
    "\r\n",
    "i = 0\r\n",
    "for item in traits:\r\n",
    "    item[\"tokenId\"] = i\r\n",
    "    i = i + 1"
   ],
   "outputs": [],
   "metadata": {}
  },
  {
   "cell_type": "code",
   "execution_count": null,
   "source": [
    "## print this shit out!\r\n",
    "\r\n",
    "print(traits)"
   ],
   "outputs": [],
   "metadata": {}
  },
  {
   "cell_type": "code",
   "execution_count": null,
   "source": [
    "## get trait counts\r\n",
    "\r\n",
    "backgroundcounts = {}\r\n",
    "for item in backgrounds:\r\n",
    "    backgroundcounts[item] = 0\r\n",
    "    \r\n",
    "flavorcounts = {}\r\n",
    "for item in flavors:\r\n",
    "    flavorcounts[item] = 0\r\n",
    "\r\n",
    "conecounts = {}\r\n",
    "for item in cones:\r\n",
    "    conecounts[item] = 0\r\n",
    "\r\n",
    "for icecream in traits:\r\n",
    "    backgroundcounts[icecream[\"Background\"]] += 1\r\n",
    "    flavorcounts[icecream[\"Flavor\"]] += 1\r\n",
    "    conecounts[icecream[\"Cone\"]] += 1\r\n",
    "    \r\n",
    "print(\"background:\", backgroundcounts)\r\n",
    "print(\"flavor:\", flavorcounts)\r\n",
    "print(\"cone:\", conecounts)"
   ],
   "outputs": [],
   "metadata": {}
  }
 ]
}